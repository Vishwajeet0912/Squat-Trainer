{
  "nbformat": 4,
  "nbformat_minor": 0,
  "metadata": {
    "colab": {
      "name": "amazon price tracker.ipynb",
      "provenance": [],
      "collapsed_sections": [],
      "include_colab_link": true
    },
    "kernelspec": {
      "name": "python3",
      "display_name": "Python 3"
    },
    "language_info": {
      "name": "python"
    }
  },
  "cells": [
    {
      "cell_type": "markdown",
      "metadata": {
        "id": "view-in-github",
        "colab_type": "text"
      },
      "source": [
        "<a href=\"https://colab.research.google.com/github/Vishwajeet0912/Squat-Trainer/blob/main/amazon_price_tracker.ipynb\" target=\"_parent\"><img src=\"https://colab.research.google.com/assets/colab-badge.svg\" alt=\"Open In Colab\"/></a>"
      ]
    },
    {
      "cell_type": "code",
      "execution_count": null,
      "metadata": {
        "id": "pi6r5I_JlHGp"
      },
      "outputs": [],
      "source": [
        "import requests \n",
        "from bs4 import BeautifulSoup\n",
        "import smtplib\n",
        "import time\n"
      ]
    },
    {
      "cell_type": "code",
      "source": [
        "# set the base url\n",
        "URL = 'https://www.amazon.in/Levis-Printed-Regular-T-Shirt-16960-0337_Blue_S/dp/B07SLGDVGT/ref=sr_1_1_sspa?keywords=levis+tshirt+for+men&qid=1657120459&sprefix=levis%2Caps%2C317&sr=8-1-spons&psc=1&spLa=ZW5jcnlwdGVkUXVhbGlmaWVyPUExVElCWEVOWTFYUlo4JmVuY3J5cHRlZElkPUEwMTk1OTcwM0NKUzVEQUZBUjlaWSZlbmNyeXB0ZWRBZElkPUEwODI4ODE0N0JPMjk2WFNCUVRBJndpZGdldE5hbWU9c3BfYXRmJmFjdGlvbj1jbGlja1JlZGlyZWN0JmRvTm90TG9nQ2xpY2s9dHJ1ZQ=='\n",
        "# set the headers and user string\n",
        "headers = {\"User-Agent\" : 'Mozilla/5.0 (Windows NT 10.0; Win64; x64) AppleWebKit/537.36 (KHTML, like Gecko) Chrome/102.0.0.0 Safari/537.36'}\n"
      ],
      "metadata": {
        "id": "wAnPnAwzsJf2"
      },
      "execution_count": null,
      "outputs": []
    },
    {
      "cell_type": "code",
      "source": [
        "def price_checker():\n",
        "\n",
        "  # fetch the HTML of the page\n",
        "  page = requests.get(URL,headers=headers)\n",
        "  soup = BeautifulSoup(page.content,'html.parser')\n",
        "\n",
        "  # get the price and product title\n",
        "  title = soup.find(id=\"productTitle\").get_text()\n",
        "  price= soup.select_one('.a-offscreen').get_text()\n",
        "  price=price.strip()[1:]\n",
        "  print(price)\n",
        "\n",
        "  # converting the obtained string to float\n",
        "  converted_price = float(price[:-3])\n",
        "\n",
        "  # ouput the price and the product title\n",
        "    print(converted_price)\n",
        "    print(title.strip())\n",
        "  \n",
        "  # check if the price dropped\n",
        "  if (converted_price<1000):\n",
        "    send_mail()\n",
        "\n",
        "def send_mail():\n",
        "  # setting connection\n",
        "  mail = smtplib.SMTP('smtp.gmail.com',587)\n",
        "  mail.ehlo()\n",
        "\n",
        "  # encryption\n",
        "  mail.starttls()\n",
        "  mail.ehlo()\n",
        "  mail.login('vishwajeetsonkhedkar@gmail.com','ywheoybsrbwbgvna')\n",
        "\n",
        "\n",
        "  # the connection is set\n",
        "\n",
        "  # make the content for the mail\n",
        "\n",
        "  subject = 'price has been droped'\n",
        "  body = 'The link to the item is https://www.amazon.in/Levis-Mens-Regular-T-Shirt-87394-0005_Navy/dp/B09RT35ZKQ/ref=sr_1_5?keywords=levis%2Bhenley%2Bt%2Bshirts%2Bfor%2Bmen&qid=1656247260&sprefix=levis%2Bhen%2Caps%2C245&sr=8-5&th=1'\n",
        "  message = f\"Subject: {subject}\\n\\n{body}\"\n",
        "  \n",
        "  # sending the mail\n",
        "  mail.sendmail(\n",
        "    'vishwajeetsonkhedkar@gmail.com',\n",
        "    'siddharthgandhi005@gmail.com',\n",
        "      message\n",
        "  )\n",
        "  print('sent the email !!')\n",
        "\n",
        "  mail.quit()\n",
        "\n",
        "price_checker()\n",
        "\n",
        "# call the price checking function once per 24 hrs or 1 day\n",
        "while(True):\n",
        "    check_price()\n",
        "    time.sleep(60*60*24)"
      ],
      "metadata": {
        "id": "AiGJxPdmqR2g",
        "colab": {
          "base_uri": "https://localhost:8080/"
        },
        "outputId": "4cc305fb-de47-4838-aa4b-b3408b319121"
      },
      "execution_count": null,
      "outputs": [
        {
          "output_type": "stream",
          "name": "stdout",
          "text": [
            "632.00\n",
            "sent the email !!\n"
          ]
        }
      ]
    }
  ]
}